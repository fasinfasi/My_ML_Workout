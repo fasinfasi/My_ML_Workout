{
 "cells": [
  {
   "cell_type": "code",
   "execution_count": 134,
   "id": "0a9a997d-92f3-4299-ad5e-1f2cff978299",
   "metadata": {},
   "outputs": [],
   "source": [
    "from sklearn.datasets import load_digits\n",
    "from sklearn.model_selection import train_test_split\n",
    "from sklearn.linear_model  import LogisticRegression\n",
    "from sklearn.svm import SVC\n",
    "from sklearn.ensemble import RandomForestClassifier\n",
    "# This module avoid error warning while LogisticRegression running \n",
    "from sklearn.preprocessing import StandardScaler\n",
    "from sklearn.pipeline import make_pipeline"
   ]
  },
  {
   "cell_type": "code",
   "execution_count": 135,
   "id": "a4c32406-dec1-4a4e-8d0d-3bdc8fce0cbc",
   "metadata": {},
   "outputs": [],
   "source": [
    "digits = load_digits()\n",
    "x_train, x_test, y_train, y_test = train_test_split(digits.data, digits.target, test_size=0.3)"
   ]
  },
  {
   "cell_type": "code",
   "execution_count": 136,
   "id": "8aa60792-8581-4f1e-93bd-92acdf5026c3",
   "metadata": {},
   "outputs": [
    {
     "data": {
      "text/plain": [
       "0.9611111111111111"
      ]
     },
     "execution_count": 136,
     "metadata": {},
     "output_type": "execute_result"
    }
   ],
   "source": [
    "pipeline_lr = make_pipeline(StandardScaler(), LogisticRegression(max_iter=1000))\n",
    "pipeline_lr.fit(x_train, y_train)\n",
    "pipeline_lr.score(x_test, y_test)"
   ]
  },
  {
   "cell_type": "code",
   "execution_count": 113,
   "id": "86a60a3f-a7e0-4d23-9c79-5a6e8c05b549",
   "metadata": {},
   "outputs": [
    {
     "data": {
      "text/plain": [
       "0.9944444444444445"
      ]
     },
     "execution_count": 113,
     "metadata": {},
     "output_type": "execute_result"
    }
   ],
   "source": [
    "svm = SVC()\n",
    "svm.fit(x_train, y_train)\n",
    "svm.score(x_test, y_test)"
   ]
  },
  {
   "cell_type": "code",
   "execution_count": 114,
   "id": "b59cd14f-e1c4-4529-813f-b8ef9c1870cf",
   "metadata": {},
   "outputs": [
    {
     "data": {
      "text/plain": [
       "0.9740740740740741"
      ]
     },
     "execution_count": 114,
     "metadata": {},
     "output_type": "execute_result"
    }
   ],
   "source": [
    "rf = RandomForestClassifier(n_estimators=40)\n",
    "rf.fit(x_train, y_train)\n",
    "rf.score(x_test, y_test)"
   ]
  },
  {
   "cell_type": "markdown",
   "id": "898a0b2b-8fa4-4bc7-b2f4-db44ee319799",
   "metadata": {},
   "source": [
    "## <span style=\"color: red;\">KFold Cross-Validation</span>\n",
    "### K-Fold cross-validation is a technique that involves splitting the dataset into k smaller sets (folds). The model is trained on k-1 of these folds and tested on the remaining one fold. This process is repeated k times, with each fold being used exactly once as the test set. The results are then averaged to produce a single performance metric."
   ]
  },
  {
   "cell_type": "code",
   "execution_count": 137,
   "id": "3c959b15-1515-4117-84a8-a7368265fdd7",
   "metadata": {},
   "outputs": [
    {
     "data": {
      "text/plain": [
       "KFold(n_splits=3, random_state=None, shuffle=False)"
      ]
     },
     "execution_count": 137,
     "metadata": {},
     "output_type": "execute_result"
    }
   ],
   "source": [
    "from sklearn.model_selection import KFold\n",
    "kf = KFold(n_splits=3)\n",
    "kf"
   ]
  },
  {
   "cell_type": "markdown",
   "id": "5338020a-2f63-47a6-9577-975fc6d9bc61",
   "metadata": {},
   "source": [
    "#### Example of KFold"
   ]
  },
  {
   "cell_type": "code",
   "execution_count": 138,
   "id": "01827454-4221-4ab8-b54e-37e5468d61aa",
   "metadata": {},
   "outputs": [
    {
     "name": "stdout",
     "output_type": "stream",
     "text": [
      "[4 5 6 7 8 9] [0 1 2 3]\n",
      "[0 1 2 3 7 8 9] [4 5 6]\n",
      "[0 1 2 3 4 5 6] [7 8 9]\n"
     ]
    }
   ],
   "source": [
    "for train_index, test_index in kf.split([1,2,3,4,5,6,7,8,9,10]):\n",
    "    print(train_index, test_index)"
   ]
  },
  {
   "cell_type": "code",
   "execution_count": 139,
   "id": "473ba0b7-9d40-45fc-96de-747b5551454e",
   "metadata": {},
   "outputs": [],
   "source": [
    "def get_score(model, x_train, x_test, y_train, y_test):\n",
    "    model.fit(x_train, y_train)\n",
    "    return model.score(x_test, y_test)"
   ]
  },
  {
   "cell_type": "code",
   "execution_count": 108,
   "id": "fbdfabfc-600c-4eb4-94e8-5715c7e7da9e",
   "metadata": {
    "scrolled": true
   },
   "outputs": [],
   "source": [
    "# get_score(pipeline_lr, x_train, x_test, y_train, y_test)"
   ]
  },
  {
   "cell_type": "code",
   "execution_count": 117,
   "id": "b199f427-5294-4a26-8fa4-e12d1407bb38",
   "metadata": {
    "scrolled": true
   },
   "outputs": [
    {
     "data": {
      "text/plain": [
       "0.9944444444444445"
      ]
     },
     "execution_count": 117,
     "metadata": {},
     "output_type": "execute_result"
    }
   ],
   "source": [
    "get_score(SVC(), x_train, x_test, y_train, y_test)"
   ]
  },
  {
   "cell_type": "code",
   "execution_count": 118,
   "id": "69249df9-4b22-4c58-9791-f1735b1a82c2",
   "metadata": {
    "scrolled": true
   },
   "outputs": [
    {
     "data": {
      "text/plain": [
       "0.9833333333333333"
      ]
     },
     "execution_count": 118,
     "metadata": {},
     "output_type": "execute_result"
    }
   ],
   "source": [
    "get_score(RandomForestClassifier(), x_train, x_test, y_train, y_test)"
   ]
  },
  {
   "cell_type": "markdown",
   "id": "2e8b2a23-35f9-4715-a2bd-8187a7474b74",
   "metadata": {},
   "source": [
    "### <span style=\"color:red\">StratifiedKFold</span>\n",
    "#### Stratified k-fold cross-validation is an enhancement over regular k-fold cross-validation that ensures each fold is representative of the whole dataset. Specifically, it maintains the proportion of each class in every fold, making it particularly useful for imbalanced datasets."
   ]
  },
  {
   "cell_type": "code",
   "execution_count": 119,
   "id": "ef7b3ed0-80f1-486e-a9ac-50e3a984bf61",
   "metadata": {},
   "outputs": [],
   "source": [
    "from sklearn.model_selection import StratifiedKFold\n",
    "folds = StratifiedKFold(n_splits=3)"
   ]
  },
  {
   "cell_type": "code",
   "execution_count": 140,
   "id": "f79903bb-eca7-4b48-8851-f56d574600f1",
   "metadata": {},
   "outputs": [],
   "source": [
    "score_lr = []\n",
    "score_svm = []\n",
    "score_rf = []\n",
    "for train_index, test_index in kf.split(digits.data):\n",
    "    x_train, x_test, y_train, y_test = digits.data[train_index], digits.data[test_index], \\\n",
    "                                        digits.target[train_index], digits.target[test_index]\n",
    "    score_lr.append(get_score(pipeline_lr, x_train, x_test, y_train, y_test))\n",
    "    score_svm.append(get_score(SVC(), x_train, x_test, y_train, y_test))\n",
    "    score_rf.append(get_score(RandomForestClassifier(n_estimators=90), x_train, x_test, y_train, y_test))"
   ]
  },
  {
   "cell_type": "code",
   "execution_count": 141,
   "id": "eaee9d47-e6ff-4957-9358-036d2755b891",
   "metadata": {},
   "outputs": [
    {
     "data": {
      "text/plain": [
       "[0.9248747913188647, 0.9398998330550918, 0.9265442404006677]"
      ]
     },
     "execution_count": 141,
     "metadata": {},
     "output_type": "execute_result"
    }
   ],
   "source": [
    "score_lr"
   ]
  },
  {
   "cell_type": "markdown",
   "id": "c38f75fa-244c-4037-b3a8-ecb408bc6c0b",
   "metadata": {},
   "source": [
    "### <span style=\"color:red;\">cross_val_score</span>\n",
    "####  It automates the process of splitting the dataset into multiple folds, training the model on each subset, and computing evaluation metrics. This provides a robust way to assess how well the model is likely to generalize to an independent dataset."
   ]
  },
  {
   "cell_type": "code",
   "execution_count": 142,
   "id": "d5f7b8d5-a7bb-4ef1-9865-f5928127a889",
   "metadata": {},
   "outputs": [],
   "source": [
    "from sklearn.model_selection import cross_val_score"
   ]
  },
  {
   "cell_type": "code",
   "execution_count": 148,
   "id": "77d29e18-0314-4ad6-a1df-2afbbd2ffa2d",
   "metadata": {
    "scrolled": true
   },
   "outputs": [
    {
     "data": {
      "text/plain": [
       "array([0.91388889, 0.88055556, 0.94428969, 0.9637883 , 0.89693593])"
      ]
     },
     "execution_count": 148,
     "metadata": {},
     "output_type": "execute_result"
    }
   ],
   "source": [
    "cross_val_score(pipeline_lr, digits.data, digits.target)"
   ]
  },
  {
   "cell_type": "code",
   "execution_count": 144,
   "id": "4c8cd98b-3a33-4349-b054-19a23fdb6dca",
   "metadata": {},
   "outputs": [
    {
     "data": {
      "text/plain": [
       "array([0.96111111, 0.94444444, 0.98328691, 0.98885794, 0.93871866])"
      ]
     },
     "execution_count": 144,
     "metadata": {},
     "output_type": "execute_result"
    }
   ],
   "source": [
    "cross_val_score(SVC(), digits.data, digits.target)"
   ]
  },
  {
   "cell_type": "code",
   "execution_count": 145,
   "id": "6fc58d29-fa38-4755-8a7d-d075dec62e32",
   "metadata": {},
   "outputs": [
    {
     "data": {
      "text/plain": [
       "array([0.93611111, 0.925     , 0.95543175, 0.9637883 , 0.92200557])"
      ]
     },
     "execution_count": 145,
     "metadata": {},
     "output_type": "execute_result"
    }
   ],
   "source": [
    "cross_val_score(RandomForestClassifier(), digits.data, digits.target)"
   ]
  }
 ],
 "metadata": {
  "kernelspec": {
   "display_name": "Python 3 (ipykernel)",
   "language": "python",
   "name": "python3"
  },
  "language_info": {
   "codemirror_mode": {
    "name": "ipython",
    "version": 3
   },
   "file_extension": ".py",
   "mimetype": "text/x-python",
   "name": "python",
   "nbconvert_exporter": "python",
   "pygments_lexer": "ipython3",
   "version": "3.11.7"
  }
 },
 "nbformat": 4,
 "nbformat_minor": 5
}
